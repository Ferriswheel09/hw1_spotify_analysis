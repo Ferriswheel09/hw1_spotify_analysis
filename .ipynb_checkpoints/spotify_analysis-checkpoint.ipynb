{
 "cells": [
  {
   "cell_type": "code",
   "execution_count": 1,
   "id": "e2109994-e602-47f7-a4fa-37acf40eaf18",
   "metadata": {},
   "outputs": [],
   "source": [
    "import numpy as np \n",
    "import pandas as pd "
   ]
  },
  {
   "cell_type": "code",
   "execution_count": 2,
   "id": "3958bf1f-a95f-4aa5-870b-0e83ef48645c",
   "metadata": {},
   "outputs": [],
   "source": [
    "spotify = pd.read_csv(\"./spotify-2023.csv\", encoding='ISO-8859-1', skip_blank_lines=True)"
   ]
  },
  {
   "cell_type": "code",
   "execution_count": 3,
   "id": "1b739ea9-2bf9-4a65-b831-ca1bc98b5cec",
   "metadata": {},
   "outputs": [
    {
     "name": "stdout",
     "output_type": "stream",
     "text": [
      "  in_shazam_charts key\n",
      "0              826   B\n",
      "1              382  C#\n",
      "2              949   F\n",
      "3              548   A\n",
      "4              425   A\n"
     ]
    }
   ],
   "source": [
    "print(spotify[['in_shazam_charts', 'key']].head())"
   ]
  },
  {
   "cell_type": "code",
   "execution_count": null,
   "id": "d25add4d-bf6e-4b2a-aa24-56986bfce05e",
   "metadata": {},
   "outputs": [],
   "source": [
    "print(spotify.describe())"
   ]
  }
 ],
 "metadata": {
  "kernelspec": {
   "display_name": "Python 3 (ipykernel)",
   "language": "python",
   "name": "python3"
  },
  "language_info": {
   "codemirror_mode": {
    "name": "ipython",
    "version": 3
   },
   "file_extension": ".py",
   "mimetype": "text/x-python",
   "name": "python",
   "nbconvert_exporter": "python",
   "pygments_lexer": "ipython3",
   "version": "3.11.3"
  }
 },
 "nbformat": 4,
 "nbformat_minor": 5
}
